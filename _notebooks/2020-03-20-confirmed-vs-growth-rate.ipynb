{
 "cells": [
  {
   "cell_type": "markdown",
   "metadata": {},
   "source": [
    "# Compare countries growth rate vs confirmed cases\n",
    "> Understand how well are the countries standing up, what countrie are accelerating the most?\n",
    "\n",
    "- comments: false\n",
    "- author: Pablo Zivic\n",
    "- categories: [growth, compare, interactive]\n",
    "- image: images/covid-growth-rate-confirmed-cases.png\n",
    "- permalink: /covid-growth-rate-confirmed-cases/"
   ]
  },
  {
   "cell_type": "code",
   "execution_count": null,
   "metadata": {},
   "outputs": [],
   "source": [
    "#hide\n",
    "\n",
    "from io import StringIO\n",
    "import csv\n",
    "import pandas as pd\n",
    "from datetime import datetime\n",
    "import requests\n",
    "\n",
    "BASE_URL = 'https://raw.githubusercontent.com/CSSEGISandData/COVID-19/master/csse_covid_19_data/'\n",
    "\n",
    "def parse_data(fname):\n",
    "    csv_content = requests.get(BASE_URL + fname).content\n",
    "    docs = list(csv.DictReader(StringIO(csv_content.decode('utf8'))))\n",
    "        \n",
    "    new_docs = []\n",
    "    for doc in docs:\n",
    "        meta = {k: doc[k] for k in ['Province/State', 'Country/Region', 'Lat', 'Long']}\n",
    "        for k, v in doc.items():\n",
    "            if k in meta: continue\n",
    "            new_doc = meta.copy()\n",
    "            new_doc['date'] = datetime.strptime(k, '%m/%d/%y')\n",
    "            new_doc['cnt'] = int(v)\n",
    "            new_docs.append(new_doc)\n",
    "\n",
    "\n",
    "    return (\n",
    "        pd.DataFrame(new_docs)\n",
    "          .rename(\n",
    "              columns={\n",
    "                  'Province/State': 'province',\n",
    "                  'Country/Region': 'country',\n",
    "                  'Lat': 'lat', 'Long': 'long'\n",
    "              }\n",
    "          ).groupby(['date', 'country'])\n",
    "          .cnt.sum()\n",
    "          .reset_index()\n",
    "    )"
   ]
  },
  {
   "cell_type": "code",
   "execution_count": 4,
   "metadata": {},
   "outputs": [],
   "source": [
    "#hide\n",
    "confirmed_df = parse_data('csse_covid_19_time_series/time_series_19-covid-Confirmed.csv')\n",
    "confirmed_df = confirmed_df.rename(columns=dict(cnt='confirmed'))"
   ]
  },
  {
   "cell_type": "code",
   "execution_count": 11,
   "metadata": {},
   "outputs": [],
   "source": [
    "#hide\n",
    "import numpy as np\n",
    "\n",
    "dfs = []\n",
    "for c in confirmed_df.country.unique():\n",
    "    cdf = confirmed_df[confirmed_df.country == c].set_index('date').sort_index()\n",
    "    cdf['rate'] = np.minimum(1.6, cdf.confirmed / cdf.confirmed.shift(1)).rolling(5).mean().fillna(1.6)\n",
    "    cdf['cum'] = cdf.confirmed.cumsum()\n",
    "    dfs.append(cdf)\n",
    "    \n",
    "confirmed_df = pd.concat(dfs).reset_index()"
   ]
  },
  {
   "cell_type": "code",
   "execution_count": 7,
   "metadata": {},
   "outputs": [],
   "source": [
    "#hide\n",
    "cnt_by_country = confirmed_df.groupby('country').confirmed.max().sort_values(ascending=False)"
   ]
  },
  {
   "cell_type": "code",
   "execution_count": 46,
   "metadata": {},
   "outputs": [],
   "source": [
    "#hide\n",
    "import altair as alt\n",
    "\n",
    "def plot_rate_cnt_trajectories(countries):\n",
    "    selection = alt.selection_multi(\n",
    "        fields=['country'], bind='legend', init=[{'country': c} for c in countries]\n",
    "    )\n",
    "    \n",
    "    source = confirmed_df[(confirmed_df.confirmed > 30) & (confirmed_df.country.isin(countries))]\n",
    "    \n",
    "    return (\n",
    "        alt.Chart(source)\n",
    "           .mark_line(point=True, radius=150)\n",
    "           .encode(\n",
    "               x=alt.X('confirmed', scale=alt.Scale(type='log'), axis=alt.Axis(title='Confirmed Cases')),\n",
    "               y=alt.Y('rate', axis=alt.Axis(title='Confirmed Cases'), scale=alt.Scale(domain=[0.95, 1.65])),\n",
    "               color='country:N',\n",
    "               tooltip=list(confirmed_df.columns), \n",
    "               opacity=alt.condition(selection, alt.value(.8), alt.value(.05))\n",
    "            ).add_selection(selection)\n",
    "             .configure_point(size=200).properties(width=650, height=400)\n",
    "    )"
   ]
  },
  {
   "cell_type": "markdown",
   "metadata": {},
   "source": [
    "# How do the countries with most cases compare with each other?\n",
    "\n",
    "\n",
    "### March 13th\n",
    "- We can see that China has dominated the illness, since it is on 1 on the Y axis (not growing).\n",
    "\n",
    "- We can also see Italy is at a similar level to that of China when there were 40k confirmed cases. However it might seem that they are not deaccelerating as fast as China did.\n",
    "\n",
    "- Iran seems to be entering on a slow piece growth rate: it would take 20 days to double \n",
    "\n",
    "- Germany is behind Italy a couple days behind Italy, growing at a much faster rate"
   ]
  },
  {
   "cell_type": "code",
   "execution_count": 48,
   "metadata": {},
   "outputs": [
    {
     "data": {
      "text/html": [
       "\n",
       "<div id=\"altair-viz-c2679af003524fe698befd751bb0d5f9\"></div>\n",
       "<script type=\"text/javascript\">\n",
       "  (function(spec, embedOpt){\n",
       "    const outputDiv = document.getElementById(\"altair-viz-c2679af003524fe698befd751bb0d5f9\");\n",
       "    const paths = {\n",
       "      \"vega\": \"https://cdn.jsdelivr.net/npm//vega@5?noext\",\n",
       "      \"vega-lib\": \"https://cdn.jsdelivr.net/npm//vega-lib?noext\",\n",
       "      \"vega-lite\": \"https://cdn.jsdelivr.net/npm//vega-lite@4.0.2?noext\",\n",
       "      \"vega-embed\": \"https://cdn.jsdelivr.net/npm//vega-embed@6?noext\",\n",
       "    };\n",
       "\n",
       "    function loadScript(lib) {\n",
       "      return new Promise(function(resolve, reject) {\n",
       "        var s = document.createElement('script');\n",
       "        s.src = paths[lib];\n",
       "        s.async = true;\n",
       "        s.onload = () => resolve(paths[lib]);\n",
       "        s.onerror = () => reject(`Error loading script: ${paths[lib]}`);\n",
       "        document.getElementsByTagName(\"head\")[0].appendChild(s);\n",
       "      });\n",
       "    }\n",
       "\n",
       "    function showError(err) {\n",
       "      outputDiv.innerHTML = `<div class=\"error\" style=\"color:red;\">${err}</div>`;\n",
       "      throw err;\n",
       "    }\n",
       "\n",
       "    function displayChart(vegaEmbed) {\n",
       "      vegaEmbed(outputDiv, spec, embedOpt)\n",
       "        .catch(err => showError(`Javascript Error: ${err.message}<br>This usually means there's a typo in your chart specification. See the javascript console for the full traceback.`));\n",
       "    }\n",
       "\n",
       "    if(typeof define === \"function\" && define.amd) {\n",
       "      requirejs.config({paths});\n",
       "      require([\"vega-embed\"], displayChart, err => showError(`Error loading script: ${err.message}`));\n",
       "    } else if (typeof vegaEmbed === \"function\") {\n",
       "      displayChart(vegaEmbed);\n",
       "    } else {\n",
       "      loadScript(\"vega\")\n",
       "        .then(() => loadScript(\"vega-lite\"))\n",
       "        .then(() => loadScript(\"vega-embed\"))\n",
       "        .catch(showError)\n",
       "        .then(() => displayChart(vegaEmbed));\n",
       "    }\n",
       "  })({\"config\": {\"view\": {\"continuousWidth\": 400, \"continuousHeight\": 300}, \"point\": {\"size\": 200}}, \"data\": {\"name\": \"data-b4890ab96825e65079f4222e29d3113e\"}, \"mark\": {\"type\": \"line\", \"point\": true, \"radius\": 150}, \"encoding\": {\"color\": {\"type\": \"nominal\", \"field\": \"country\"}, \"opacity\": {\"condition\": {\"value\": 0.8, \"selection\": \"selector017\"}, \"value\": 0.05}, \"tooltip\": [{\"type\": \"temporal\", \"field\": \"date\"}, {\"type\": \"nominal\", \"field\": \"country\"}, {\"type\": \"quantitative\", \"field\": \"confirmed\"}, {\"type\": \"quantitative\", \"field\": \"rate\"}, {\"type\": \"quantitative\", \"field\": \"cum\"}, {\"type\": \"quantitative\", \"field\": \"log(confirmed)\"}], \"x\": {\"type\": \"quantitative\", \"axis\": {\"title\": \"Confirmed Cases\"}, \"field\": \"confirmed\", \"scale\": {\"type\": \"log\"}}, \"y\": {\"type\": \"quantitative\", \"axis\": {\"title\": \"Confirmed Cases\"}, \"field\": \"rate\", \"scale\": {\"domain\": [0.95, 1.65]}}}, \"height\": 400, \"selection\": {\"selector017\": {\"type\": \"multi\", \"fields\": [\"country\"], \"bind\": \"legend\", \"init\": [{\"country\": \"China\"}, {\"country\": \"Italy\"}, {\"country\": \"Iran\"}, {\"country\": \"Spain\"}, {\"country\": \"Germany\"}]}}, \"width\": 650, \"$schema\": \"https://vega.github.io/schema/vega-lite/v4.0.2.json\", \"datasets\": {\"data-b4890ab96825e65079f4222e29d3113e\": [{\"date\": \"2020-01-22T00:00:00\", \"country\": \"China\", \"confirmed\": 548, \"rate\": 1.6, \"cum\": 548, \"log(confirmed)\": 2739}, {\"date\": \"2020-01-23T00:00:00\", \"country\": \"China\", \"confirmed\": 643, \"rate\": 1.6, \"cum\": 1191, \"log(confirmed)\": 2808}, {\"date\": \"2020-01-24T00:00:00\", \"country\": \"China\", \"confirmed\": 920, \"rate\": 1.6, \"cum\": 2111, \"log(confirmed)\": 2964}, {\"date\": \"2020-01-25T00:00:00\", \"country\": \"China\", \"confirmed\": 1406, \"rate\": 1.6, \"cum\": 3517, \"log(confirmed)\": 3148}, {\"date\": \"2020-01-26T00:00:00\", \"country\": \"China\", \"confirmed\": 2075, \"rate\": 1.6, \"cum\": 5592, \"log(confirmed)\": 3317}, {\"date\": \"2020-01-27T00:00:00\", \"country\": \"China\", \"confirmed\": 2877, \"rate\": 1.398947127631546, \"cum\": 8469, \"log(confirmed)\": 3459}, {\"date\": \"2020-01-28T00:00:00\", \"country\": \"China\", \"confirmed\": 5509, \"rate\": 1.4842755947848305, \"cum\": 13978, \"log(confirmed)\": 3741}, {\"date\": \"2020-01-29T00:00:00\", \"country\": \"China\", \"confirmed\": 6087, \"rate\": 1.4191008079874874, \"cum\": 20065, \"log(confirmed)\": 3784}, {\"date\": \"2020-01-30T00:00:00\", \"country\": \"China\", \"confirmed\": 8141, \"rate\": 1.380936723445234, \"cum\": 28206, \"log(confirmed)\": 3910}, {\"date\": \"2020-01-31T00:00:00\", \"country\": \"China\", \"confirmed\": 9802, \"rate\": 1.3265789366215017, \"cum\": 38008, \"log(confirmed)\": 3991}, {\"date\": \"2020-02-01T00:00:00\", \"country\": \"China\", \"confirmed\": 11891, \"rate\": 1.2919016860972665, \"cum\": 49899, \"log(confirmed)\": 4075}, {\"date\": \"2020-02-02T00:00:00\", \"country\": \"China\", \"confirmed\": 16630, \"rate\": 1.2516090277842564, \"cum\": 66529, \"log(confirmed)\": 4220}, {\"date\": \"2020-02-03T00:00:00\", \"country\": \"China\", \"confirmed\": 19716, \"rate\": 1.2677388331964248, \"cum\": 86245, \"log(confirmed)\": 4294}, {\"date\": \"2020-02-04T00:00:00\", \"country\": \"China\", \"confirmed\": 23707, \"rate\": 1.2407356291979208, \"cum\": 109952, \"log(confirmed)\": 4374}, {\"date\": \"2020-02-05T00:00:00\", \"country\": \"China\", \"confirmed\": 27440, \"rate\": 1.2314226394157675, \"cum\": 137392, \"log(confirmed)\": 4438}, {\"date\": \"2020-02-06T00:00:00\", \"country\": \"China\", \"confirmed\": 30587, \"rate\": 1.2117360029049822, \"cum\": 167979, \"log(confirmed)\": 4485}, {\"date\": \"2020-02-07T00:00:00\", \"country\": \"China\", \"confirmed\": 34110, \"rate\": 1.1550645915151772, \"cum\": 202089, \"log(confirmed)\": 4532}, {\"date\": \"2020-02-08T00:00:00\", \"country\": \"China\", \"confirmed\": 36814, \"rate\": 1.133805529582443, \"cum\": 238903, \"log(confirmed)\": 4566}, {\"date\": \"2020-02-09T00:00:00\", \"country\": \"China\", \"confirmed\": 39829, \"rate\": 1.1097002823912834, \"cum\": 278732, \"log(confirmed)\": 4600}, {\"date\": \"2020-02-10T00:00:00\", \"country\": \"China\", \"confirmed\": 42354, \"rate\": 1.0908866779552706, \"cum\": 321086, \"log(confirmed)\": 4626}, {\"date\": \"2020-02-11T00:00:00\", \"country\": \"China\", \"confirmed\": 44386, \"rate\": 1.077544675843678, \"cum\": 365472, \"log(confirmed)\": 4647}, {\"date\": \"2020-02-12T00:00:00\", \"country\": \"China\", \"confirmed\": 44759, \"rate\": 1.0561894556803189, \"cum\": 410231, \"log(confirmed)\": 4650}, {\"date\": \"2020-02-13T00:00:00\", \"country\": \"China\", \"confirmed\": 59895, \"rate\": 1.107968192724299, \"cum\": 470126, \"log(confirmed)\": 4777}, {\"date\": \"2020-02-14T00:00:00\", \"country\": \"China\", \"confirmed\": 66358, \"rate\": 1.1131696548019587, \"cum\": 536484, \"log(confirmed)\": 4821}, {\"date\": \"2020-02-15T00:00:00\", \"country\": \"China\", \"confirmed\": 68413, \"rate\": 1.106684127929817, \"cum\": 604897, \"log(confirmed)\": 4835}, {\"date\": \"2020-02-16T00:00:00\", \"country\": \"China\", \"confirmed\": 70513, \"rate\": 1.103227996330356, \"cum\": 675410, \"log(confirmed)\": 4848}, {\"date\": \"2020-02-17T00:00:00\", \"country\": \"China\", \"confirmed\": 72434, \"rate\": 1.1069959268727172, \"cum\": 747844, \"log(confirmed)\": 4859}, {\"date\": \"2020-02-18T00:00:00\", \"country\": \"China\", \"confirmed\": 74211, \"rate\": 1.0442691373362316, \"cum\": 822055, \"log(confirmed)\": 4870}, {\"date\": \"2020-02-19T00:00:00\", \"country\": \"China\", \"confirmed\": 74619, \"rate\": 1.023787604527015, \"cum\": 896674, \"log(confirmed)\": 4872}, {\"date\": \"2020-02-20T00:00:00\", \"country\": \"China\", \"confirmed\": 75077, \"rate\": 1.0188214971895995, \"cum\": 971751, \"log(confirmed)\": 4875}, {\"date\": \"2020-02-21T00:00:00\", \"country\": \"China\", \"confirmed\": 75550, \"rate\": 1.0139423528089793, \"cum\": 1047301, \"log(confirmed)\": 4878}, {\"date\": \"2020-02-22T00:00:00\", \"country\": \"China\", \"confirmed\": 77001, \"rate\": 1.0123348769243208, \"cum\": 1124302, \"log(confirmed)\": 4886}, {\"date\": \"2020-02-23T00:00:00\", \"country\": \"China\", \"confirmed\": 77022, \"rate\": 1.0074828860656664, \"cum\": 1201324, \"log(confirmed)\": 4886}, {\"date\": \"2020-02-24T00:00:00\", \"country\": \"China\", \"confirmed\": 77241, \"rate\": 1.0069519873081592, \"cum\": 1278565, \"log(confirmed)\": 4887}, {\"date\": \"2020-02-25T00:00:00\", \"country\": \"China\", \"confirmed\": 77754, \"rate\": 1.0070527280167259, \"cum\": 1356319, \"log(confirmed)\": 4890}, {\"date\": \"2020-02-26T00:00:00\", \"country\": \"China\", \"confirmed\": 78166, \"rate\": 1.006852440877067, \"cum\": 1434485, \"log(confirmed)\": 4893}, {\"date\": \"2020-02-27T00:00:00\", \"country\": \"China\", \"confirmed\": 78600, \"rate\": 1.0041217333175827, \"cum\": 1513085, \"log(confirmed)\": 4895}, {\"date\": \"2020-02-28T00:00:00\", \"country\": \"China\", \"confirmed\": 78928, \"rate\": 1.004901794169375, \"cum\": 1592013, \"log(confirmed)\": 4897}, {\"date\": \"2020-02-29T00:00:00\", \"country\": \"China\", \"confirmed\": 79356, \"rate\": 1.0054176582160115, \"cum\": 1671369, \"log(confirmed)\": 4899}, {\"date\": \"2020-03-01T00:00:00\", \"country\": \"China\", \"confirmed\": 79932, \"rate\": 1.0055410341945183, \"cum\": 1751301, \"log(confirmed)\": 4902}, {\"date\": \"2020-03-02T00:00:00\", \"country\": \"China\", \"confirmed\": 80136, \"rate\": 1.0049917155103834, \"cum\": 1831437, \"log(confirmed)\": 4903}, {\"date\": \"2020-03-03T00:00:00\", \"country\": \"China\", \"confirmed\": 80261, \"rate\": 1.0041932279299313, \"cum\": 1911698, \"log(confirmed)\": 4904}, {\"date\": \"2020-03-04T00:00:00\", \"country\": \"China\", \"confirmed\": 80386, \"rate\": 1.003670106116121, \"cum\": 1992084, \"log(confirmed)\": 4905}, {\"date\": \"2020-03-05T00:00:00\", \"country\": \"China\", \"confirmed\": 80537, \"rate\": 1.002961260686158, \"cum\": 2072621, \"log(confirmed)\": 4906}, {\"date\": \"2020-03-06T00:00:00\", \"country\": \"China\", \"confirmed\": 80690, \"rate\": 1.001889524201659, \"cum\": 2153311, \"log(confirmed)\": 4906}, {\"date\": \"2020-03-07T00:00:00\", \"country\": \"China\", \"confirmed\": 80770, \"rate\": 1.001577380083769, \"cum\": 2234081, \"log(confirmed)\": 4907}, {\"date\": \"2020-03-08T00:00:00\", \"country\": \"China\", \"confirmed\": 80823, \"rate\": 1.0013966472775402, \"cum\": 2314904, \"log(confirmed)\": 4907}, {\"date\": \"2020-03-09T00:00:00\", \"country\": \"China\", \"confirmed\": 80860, \"rate\": 1.0011767215894722, \"cum\": 2395764, \"log(confirmed)\": 4907}, {\"date\": \"2020-03-10T00:00:00\", \"country\": \"China\", \"confirmed\": 80887, \"rate\": 1.0008678163732427, \"cum\": 2476651, \"log(confirmed)\": 4907}, {\"date\": \"2020-03-11T00:00:00\", \"country\": \"China\", \"confirmed\": 80921, \"rate\": 1.0005719346820445, \"cum\": 2557572, \"log(confirmed)\": 4908}, {\"date\": \"2020-03-12T00:00:00\", \"country\": \"China\", \"confirmed\": 80932, \"rate\": 1.0004008319406985, \"cum\": 2638504, \"log(confirmed)\": 4908}, {\"date\": \"2020-03-13T00:00:00\", \"country\": \"China\", \"confirmed\": 80945, \"rate\": 1.0003017208305203, \"cum\": 2719449, \"log(confirmed)\": 4908}, {\"date\": \"2020-03-14T00:00:00\", \"country\": \"China\", \"confirmed\": 80977, \"rate\": 1.0002892287669247, \"cum\": 2800426, \"log(confirmed)\": 4908}, {\"date\": \"2020-03-15T00:00:00\", \"country\": \"China\", \"confirmed\": 81003, \"rate\": 1.0002866624393896, \"cum\": 2881429, \"log(confirmed)\": 4908}, {\"date\": \"2020-03-16T00:00:00\", \"country\": \"China\", \"confirmed\": 81033, \"rate\": 1.000276665872891, \"cum\": 2962462, \"log(confirmed)\": 4908}, {\"date\": \"2020-03-17T00:00:00\", \"country\": \"China\", \"confirmed\": 81058, \"rate\": 1.0003111821200363, \"cum\": 3043520, \"log(confirmed)\": 4908}, {\"date\": \"2020-03-18T00:00:00\", \"country\": \"China\", \"confirmed\": 81102, \"rate\": 1.0003876206228042, \"cum\": 3124622, \"log(confirmed)\": 4909}, {\"date\": \"2020-03-19T00:00:00\", \"country\": \"China\", \"confirmed\": 81156, \"rate\": 1.0004417202335771, \"cum\": 3205778, \"log(confirmed)\": 4909}, {\"date\": \"2020-02-27T00:00:00\", \"country\": \"Germany\", \"confirmed\": 46, \"rate\": 1.2501470588235293, \"cum\": 452, \"log(confirmed)\": 1672}, {\"date\": \"2020-02-28T00:00:00\", \"country\": \"Germany\", \"confirmed\": 48, \"rate\": 1.2588427109974423, \"cum\": 500, \"log(confirmed)\": 1690}, {\"date\": \"2020-02-29T00:00:00\", \"country\": \"Germany\", \"confirmed\": 79, \"rate\": 1.3788427109974424, \"cum\": 579, \"log(confirmed)\": 1903}, {\"date\": \"2020-03-01T00:00:00\", \"country\": \"Germany\", \"confirmed\": 130, \"rate\": 1.4863427109974423, \"cum\": 709, \"log(confirmed)\": 2117}, {\"date\": \"2020-03-02T00:00:00\", \"country\": \"Germany\", \"confirmed\": 159, \"rate\": 1.4133110367892978, \"cum\": 868, \"log(confirmed)\": 2204}, {\"date\": \"2020-03-03T00:00:00\", \"country\": \"Germany\", \"confirmed\": 196, \"rate\": 1.3398519172924428, \"cum\": 1064, \"log(confirmed)\": 2294}, {\"date\": \"2020-03-04T00:00:00\", \"country\": \"Germany\", \"confirmed\": 262, \"rate\": 1.3985032038940397, \"cum\": 1326, \"log(confirmed)\": 2419}, {\"date\": \"2020-03-05T00:00:00\", \"country\": \"Germany\", \"confirmed\": 482, \"rate\": 1.39850320389404, \"cum\": 1808, \"log(confirmed)\": 2683}, {\"date\": \"2020-03-06T00:00:00\", \"country\": \"Germany\", \"confirmed\": 670, \"rate\": 1.356511502649227, \"cum\": 2478, \"log(confirmed)\": 2826}, {\"date\": \"2020-03-07T00:00:00\", \"country\": \"Germany\", \"confirmed\": 799, \"rate\": 1.3504035807204093, \"cum\": 3277, \"log(confirmed)\": 2903}, {\"date\": \"2020-03-08T00:00:00\", \"country\": \"Germany\", \"confirmed\": 1040, \"rate\": 1.3641881069757127, \"cum\": 4317, \"log(confirmed)\": 3017}, {\"date\": \"2020-03-09T00:00:00\", \"country\": \"Germany\", \"confirmed\": 1176, \"rate\": 1.3229950143540488, \"cum\": 5493, \"log(confirmed)\": 3070}, {\"date\": \"2020-03-10T00:00:00\", \"country\": \"Germany\", \"confirmed\": 1457, \"rate\": 1.2507841300003073, \"cum\": 6950, \"log(confirmed)\": 3163}, {\"date\": \"2020-03-11T00:00:00\", \"country\": \"Germany\", \"confirmed\": 1908, \"rate\": 1.2346838614441595, \"cum\": 8858, \"log(confirmed)\": 3280}, {\"date\": \"2020-03-12T00:00:00\", \"country\": \"Germany\", \"confirmed\": 2078, \"rate\": 1.2139961052565442, \"cum\": 10936, \"log(confirmed)\": 3317}, {\"date\": \"2020-03-13T00:00:00\", \"country\": \"Germany\", \"confirmed\": 3675, \"rate\": 1.2736706984980963, \"cum\": 14611, \"log(confirmed)\": 3565}, {\"date\": \"2020-03-14T00:00:00\", \"country\": \"Germany\", \"confirmed\": 4585, \"rate\": 1.2970406618680594, \"cum\": 19196, \"log(confirmed)\": 3661}, {\"date\": \"2020-03-15T00:00:00\", \"country\": \"Germany\", \"confirmed\": 5795, \"rate\": 1.3020323532010813, \"cum\": 24991, \"log(confirmed)\": 3763}, {\"date\": \"2020-03-16T00:00:00\", \"country\": \"Germany\", \"confirmed\": 7272, \"rate\": 1.2910993014317231, \"cum\": 32263, \"log(confirmed)\": 3861}, {\"date\": \"2020-03-17T00:00:00\", \"country\": \"Germany\", \"confirmed\": 9257, \"rate\": 1.3278725542287009, \"cum\": 41520, \"log(confirmed)\": 3966}, {\"date\": \"2020-03-18T00:00:00\", \"country\": \"Germany\", \"confirmed\": 12327, \"rate\": 1.2742007383056158, \"cum\": 53847, \"log(confirmed)\": 4090}, {\"date\": \"2020-03-19T00:00:00\", \"country\": \"Germany\", \"confirmed\": 15320, \"rate\": 1.2732370001698163, \"cum\": 69167, \"log(confirmed)\": 4185}, {\"date\": \"2020-02-23T00:00:00\", \"country\": \"Iran\", \"confirmed\": 43, \"rate\": 1.5782539682539682, \"cum\": 96, \"log(confirmed)\": 1643}, {\"date\": \"2020-02-24T00:00:00\", \"country\": \"Iran\", \"confirmed\": 61, \"rate\": 1.5419748984865265, \"cum\": 157, \"log(confirmed)\": 1792}, {\"date\": \"2020-02-25T00:00:00\", \"country\": \"Iran\", \"confirmed\": 95, \"rate\": 1.533450308322592, \"cum\": 252, \"log(confirmed)\": 1982}, {\"date\": \"2020-02-26T00:00:00\", \"country\": \"Iran\", \"confirmed\": 139, \"rate\": 1.5060818872699606, \"cum\": 391, \"log(confirmed)\": 2146}, {\"date\": \"2020-02-27T00:00:00\", \"country\": \"Iran\", \"confirmed\": 245, \"rate\": 1.5149707761588496, \"cum\": 636, \"log(confirmed)\": 2390}, {\"date\": \"2020-02-28T00:00:00\", \"country\": \"Iran\", \"confirmed\": 388, \"rate\": 1.5245626128935432, \"cum\": 1024, \"log(confirmed)\": 2589}, {\"date\": \"2020-02-29T00:00:00\", \"country\": \"Iran\", \"confirmed\": 593, \"rate\": 1.5465117857537687, \"cum\": 1617, \"log(confirmed)\": 2773}, {\"date\": \"2020-03-01T00:00:00\", \"country\": \"Iran\", \"confirmed\": 978, \"rate\": 1.555036375917703, \"cum\": 2595, \"log(confirmed)\": 2990}, {\"date\": \"2020-03-02T00:00:00\", \"country\": \"Iran\", \"confirmed\": 1501, \"rate\": 1.5693577622055088, \"cum\": 4096, \"log(confirmed)\": 3176}, {\"date\": \"2020-03-03T00:00:00\", \"country\": \"Iran\", \"confirmed\": 2336, \"rate\": 1.5606169227651356, \"cum\": 6432, \"log(confirmed)\": 3368}, {\"date\": \"2020-03-04T00:00:00\", \"country\": \"Iran\", \"confirmed\": 2922, \"rate\": 1.494053461764297, \"cum\": 9354, \"log(confirmed)\": 3465}, {\"date\": \"2020-03-05T00:00:00\", \"country\": \"Iran\", \"confirmed\": 3513, \"rate\": 1.4288351040513905, \"cum\": 12867, \"log(confirmed)\": 3545}, {\"date\": \"2020-03-06T00:00:00\", \"country\": \"Iran\", \"confirmed\": 4747, \"rate\": 1.3790884487710033, \"cum\": 17614, \"log(confirmed)\": 3676}, {\"date\": \"2020-03-07T00:00:00\", \"country\": \"Iran\", \"confirmed\": 5823, \"rate\": 1.3174693786274665, \"cum\": 23437, \"log(confirmed)\": 3765}, {\"date\": \"2020-03-08T00:00:00\", \"country\": \"Iran\", \"confirmed\": 6566, \"rate\": 1.2317297097387996, \"cum\": 30003, \"log(confirmed)\": 3817}, {\"date\": \"2020-03-09T00:00:00\", \"country\": \"Iran\", \"confirmed\": 7161, \"rate\": 1.199682144239486, \"cum\": 37164, \"log(confirmed)\": 3855}, {\"date\": \"2020-03-10T00:00:00\", \"country\": \"Iran\", \"confirmed\": 8042, \"rate\": 1.1838359008844663, \"cum\": 45206, \"log(confirmed)\": 3905}, {\"date\": \"2020-03-11T00:00:00\", \"country\": \"Iran\", \"confirmed\": 9000, \"rate\": 1.137407475339188, \"cum\": 54206, \"log(confirmed)\": 3954}, {\"date\": \"2020-03-12T00:00:00\", \"country\": \"Iran\", \"confirmed\": 10075, \"rate\": 1.11596246913644, \"cum\": 64281, \"log(confirmed)\": 4003}, {\"date\": \"2020-03-13T00:00:00\", \"country\": \"Iran\", \"confirmed\": 11364, \"rate\": 1.1160310667955051, \"cum\": 75645, \"log(confirmed)\": 4055}, {\"date\": \"2020-03-14T00:00:00\", \"country\": \"Iran\", \"confirmed\": 12729, \"rate\": 1.121930630674706, \"cum\": 88374, \"log(confirmed)\": 4104}, {\"date\": \"2020-03-15T00:00:00\", \"country\": \"Iran\", \"confirmed\": 13938, \"rate\": 1.1163211220507447, \"cum\": 102312, \"log(confirmed)\": 4144}, {\"date\": \"2020-03-16T00:00:00\", \"country\": \"Iran\", \"confirmed\": 14991, \"rate\": 1.10760597472316, \"cum\": 117303, \"log(confirmed)\": 4175}, {\"date\": \"2020-03-17T00:00:00\", \"country\": \"Iran\", \"confirmed\": 16169, \"rate\": 1.0994331821587324, \"cum\": 133472, \"log(confirmed)\": 4208}, {\"date\": \"2020-03-18T00:00:00\", \"country\": \"Iran\", \"confirmed\": 17361, \"rate\": 1.088589356543223, \"cum\": 150833, \"log(confirmed)\": 4239}, {\"date\": \"2020-03-19T00:00:00\", \"country\": \"Iran\", \"confirmed\": 18407, \"rate\": 1.0766161224066049, \"cum\": 169240, \"log(confirmed)\": 4265}, {\"date\": \"2020-02-22T00:00:00\", \"country\": \"Italy\", \"confirmed\": 62, \"rate\": 1.2399999999999998, \"cum\": 138, \"log(confirmed)\": 1799}, {\"date\": \"2020-02-23T00:00:00\", \"country\": \"Italy\", \"confirmed\": 155, \"rate\": 1.3599999999999999, \"cum\": 293, \"log(confirmed)\": 2193}, {\"date\": \"2020-02-24T00:00:00\", \"country\": \"Italy\", \"confirmed\": 229, \"rate\": 1.455483870967742, \"cum\": 522, \"log(confirmed)\": 2361}, {\"date\": \"2020-02-25T00:00:00\", \"country\": \"Italy\", \"confirmed\": 322, \"rate\": 1.5367065783913225, \"cum\": 844, \"log(confirmed)\": 2509}, {\"date\": \"2020-02-26T00:00:00\", \"country\": \"Italy\", \"confirmed\": 453, \"rate\": 1.4980730380186518, \"cum\": 1297, \"log(confirmed)\": 2657}, {\"date\": \"2020-02-27T00:00:00\", \"country\": \"Italy\", \"confirmed\": 655, \"rate\": 1.4672562609767095, \"cum\": 1952, \"log(confirmed)\": 2816}, {\"date\": \"2020-02-28T00:00:00\", \"country\": \"Italy\", \"confirmed\": 888, \"rate\": 1.4184012991446484, \"cum\": 2840, \"log(confirmed)\": 2948}, {\"date\": \"2020-02-29T00:00:00\", \"country\": \"Italy\", \"confirmed\": 1128, \"rate\": 1.3769714822309604, \"cum\": 3968, \"log(confirmed)\": 3052}, {\"date\": \"2020-03-01T00:00:00\", \"country\": \"Italy\", \"confirmed\": 1694, \"rate\": 1.3961033847364575, \"cum\": 5662, \"log(confirmed)\": 3229}, {\"date\": \"2020-03-02T00:00:00\", \"country\": \"Italy\", \"confirmed\": 2036, \"rate\": 1.3551147291232961, \"cum\": 7698, \"log(confirmed)\": 3308}, {\"date\": \"2020-03-03T00:00:00\", \"country\": \"Italy\", \"confirmed\": 2502, \"rate\": 1.3117075375994234, \"cum\": 10200, \"log(confirmed)\": 3398}, {\"date\": \"2020-03-04T00:00:00\", \"country\": \"Italy\", \"confirmed\": 3089, \"rate\": 1.2874849614618602, \"cum\": 13289, \"log(confirmed)\": 3489}, {\"date\": \"2020-03-05T00:00:00\", \"country\": \"Italy\", \"confirmed\": 3858, \"rate\": 1.2832204833223417, \"cum\": 17147, \"log(confirmed)\": 3586}, {\"date\": \"2020-03-06T00:00:00\", \"country\": \"Italy\", \"confirmed\": 4636, \"rate\": 1.2231976515166436, \"cum\": 21783, \"log(confirmed)\": 3666}, {\"date\": \"2020-03-07T00:00:00\", \"country\": \"Italy\", \"confirmed\": 5883, \"rate\": 1.2366162236888436, \"cum\": 27666, \"log(confirmed)\": 3769}, {\"date\": \"2020-03-08T00:00:00\", \"country\": \"Italy\", \"confirmed\": 7375, \"rate\": 1.2415626127884, \"cum\": 35041, \"log(confirmed)\": 3867}, {\"date\": \"2020-03-09T00:00:00\", \"country\": \"Italy\", \"confirmed\": 9172, \"rate\": 1.2433723541478547, \"cum\": 44213, \"log(confirmed)\": 3962}, {\"date\": \"2020-03-10T00:00:00\", \"country\": \"Italy\", \"confirmed\": 10149, \"rate\": 1.2148867468334066, \"cum\": 54362, \"log(confirmed)\": 4006}, {\"date\": \"2020-03-11T00:00:00\", \"country\": \"Italy\", \"confirmed\": 12462, \"rate\": 1.2201358141135146, \"cum\": 66824, \"log(confirmed)\": 4095}, {\"date\": \"2020-03-12T00:00:00\", \"country\": \"Italy\", \"confirmed\": 12462, \"rate\": 1.166339437927147, \"cum\": 79286, \"log(confirmed)\": 4095}, {\"date\": \"2020-03-13T00:00:00\", \"country\": \"Italy\", \"confirmed\": 17660, \"rate\": 1.1990386190624798, \"cum\": 96946, \"log(confirmed)\": 4247}, {\"date\": \"2020-03-14T00:00:00\", \"country\": \"Italy\", \"confirmed\": 21157, \"rate\": 1.1899100396817093, \"cum\": 118103, \"log(confirmed)\": 4325}, {\"date\": \"2020-03-15T00:00:00\", \"country\": \"Italy\", \"confirmed\": 24747, \"rate\": 1.2025428296012608, \"cum\": 142850, \"log(confirmed)\": 4393}, {\"date\": \"2020-03-16T00:00:00\", \"country\": \"Italy\", \"confirmed\": 27980, \"rate\": 1.1830904038041896, \"cum\": 170830, \"log(confirmed)\": 4446}, {\"date\": \"2020-03-17T00:00:00\", \"country\": \"Italy\", \"confirmed\": 31506, \"rate\": 1.2082941207448616, \"cum\": 202336, \"log(confirmed)\": 4498}, {\"date\": \"2020-03-18T00:00:00\", \"country\": \"Italy\", \"confirmed\": 35713, \"rate\": 1.151578543325137, \"cum\": 238049, \"log(confirmed)\": 4552}, {\"date\": \"2020-03-19T00:00:00\", \"country\": \"Italy\", \"confirmed\": 41035, \"rate\": 1.1417791922699032, \"cum\": 279084, \"log(confirmed)\": 4613}, {\"date\": \"2020-02-28T00:00:00\", \"country\": \"Spain\", \"confirmed\": 32, \"rate\": 1.3907692307692305, \"cum\": 106, \"log(confirmed)\": 1518}, {\"date\": \"2020-02-29T00:00:00\", \"country\": \"Spain\", \"confirmed\": 45, \"rate\": 1.4720192307692304, \"cum\": 151, \"log(confirmed)\": 1662}, {\"date\": \"2020-03-01T00:00:00\", \"country\": \"Spain\", \"confirmed\": 84, \"rate\": 1.4720192307692304, \"cum\": 235, \"log(confirmed)\": 1929}, {\"date\": \"2020-03-02T00:00:00\", \"country\": \"Spain\", \"confirmed\": 120, \"rate\": 1.4377335164835163, \"cum\": 355, \"log(confirmed)\": 2082}, {\"date\": \"2020-03-03T00:00:00\", \"country\": \"Spain\", \"confirmed\": 165, \"rate\": 1.4819642857142856, \"cum\": 520, \"log(confirmed)\": 2220}, {\"date\": \"2020-03-04T00:00:00\", \"country\": \"Spain\", \"confirmed\": 222, \"rate\": 1.4310551948051948, \"cum\": 742, \"log(confirmed)\": 2348}, {\"date\": \"2020-03-05T00:00:00\", \"country\": \"Spain\", \"confirmed\": 259, \"rate\": 1.383138528138528, \"cum\": 1001, \"log(confirmed)\": 2414}, {\"date\": \"2020-03-06T00:00:00\", \"country\": \"Spain\", \"confirmed\": 400, \"rate\": 1.372018837018837, \"cum\": 1401, \"log(confirmed)\": 2603}, {\"date\": \"2020-03-07T00:00:00\", \"country\": \"Spain\", \"confirmed\": 500, \"rate\": 1.3363045513045513, \"cum\": 1901, \"log(confirmed)\": 2699}, {\"date\": \"2020-03-08T00:00:00\", \"country\": \"Spain\", \"confirmed\": 673, \"rate\": 1.3305045513045513, \"cum\": 2574, \"log(confirmed)\": 2828}, {\"date\": \"2020-03-09T00:00:00\", \"country\": \"Spain\", \"confirmed\": 1073, \"rate\": 1.3802843702968517, \"cum\": 3647, \"log(confirmed)\": 3031}, {\"date\": \"2020-03-10T00:00:00\", \"country\": \"Spain\", \"confirmed\": 1695, \"rate\": 1.4628876632449719, \"cum\": 5342, \"log(confirmed)\": 3229}, {\"date\": \"2020-03-11T00:00:00\", \"country\": \"Spain\", \"confirmed\": 2277, \"rate\": 1.422679920736344, \"cum\": 7619, \"log(confirmed)\": 3357}, {\"date\": \"2020-03-12T00:00:00\", \"country\": \"Spain\", \"confirmed\": 2277, \"rate\": 1.3726799207363443, \"cum\": 9896, \"log(confirmed)\": 3357}, {\"date\": \"2020-03-13T00:00:00\", \"country\": \"Spain\", \"confirmed\": 5232, \"rate\": 1.423479920736344, \"cum\": 15128, \"log(confirmed)\": 3718}, {\"date\": \"2020-03-14T00:00:00\", \"country\": \"Spain\", \"confirmed\": 6391, \"rate\": 1.3489134739987005, \"cum\": 21519, \"log(confirmed)\": 3805}, {\"date\": \"2020-03-15T00:00:00\", \"country\": \"Spain\", \"confirmed\": 7798, \"rate\": 1.2770075158443004, \"cum\": 29317, \"log(confirmed)\": 3892}, {\"date\": \"2020-03-16T00:00:00\", \"country\": \"Spain\", \"confirmed\": 9942, \"rate\": 1.263323408051742, \"cum\": 39259, \"log(confirmed)\": 3997}, {\"date\": \"2020-03-17T00:00:00\", \"country\": \"Spain\", \"confirmed\": 11748, \"rate\": 1.2996541262171009, \"cum\": 51007, \"log(confirmed)\": 4070}, {\"date\": \"2020-03-18T00:00:00\", \"country\": \"Spain\", \"confirmed\": 13910, \"rate\": 1.2164603911132534, \"cum\": 64917, \"log(confirmed)\": 4143}, {\"date\": \"2020-03-19T00:00:00\", \"country\": \"Spain\", \"confirmed\": 17963, \"rate\": 1.2304307323413757, \"cum\": 82880, \"log(confirmed)\": 4254}]}}, {\"mode\": \"vega-lite\"});\n",
       "</script>"
      ],
      "text/plain": [
       "alt.Chart(...)"
      ]
     },
     "execution_count": 48,
     "metadata": {},
     "output_type": "execute_result"
    }
   ],
   "source": [
    "#hide_input\n",
    "plot_rate_cnt_trajectories(cnt_by_country.index[:5])"
   ]
  },
  {
   "cell_type": "markdown",
   "metadata": {},
   "source": [
    "# What about Latin America?\n",
    "\n",
    "- Brazil is growing fast, needs to take action quickly\n",
    "\n",
    "- Chile seems to be starting a deacceleration \n",
    "\n",
    "- Argentina is growing constantly at a 20% rate"
   ]
  },
  {
   "cell_type": "code",
   "execution_count": 14,
   "metadata": {},
   "outputs": [
    {
     "data": {
      "text/html": [
       "\n",
       "<div id=\"altair-viz-1b62845996854e10808f5b66f69c6a90\"></div>\n",
       "<script type=\"text/javascript\">\n",
       "  (function(spec, embedOpt){\n",
       "    const outputDiv = document.getElementById(\"altair-viz-1b62845996854e10808f5b66f69c6a90\");\n",
       "    const paths = {\n",
       "      \"vega\": \"https://cdn.jsdelivr.net/npm//vega@5?noext\",\n",
       "      \"vega-lib\": \"https://cdn.jsdelivr.net/npm//vega-lib?noext\",\n",
       "      \"vega-lite\": \"https://cdn.jsdelivr.net/npm//vega-lite@4.0.2?noext\",\n",
       "      \"vega-embed\": \"https://cdn.jsdelivr.net/npm//vega-embed@6?noext\",\n",
       "    };\n",
       "\n",
       "    function loadScript(lib) {\n",
       "      return new Promise(function(resolve, reject) {\n",
       "        var s = document.createElement('script');\n",
       "        s.src = paths[lib];\n",
       "        s.async = true;\n",
       "        s.onload = () => resolve(paths[lib]);\n",
       "        s.onerror = () => reject(`Error loading script: ${paths[lib]}`);\n",
       "        document.getElementsByTagName(\"head\")[0].appendChild(s);\n",
       "      });\n",
       "    }\n",
       "\n",
       "    function showError(err) {\n",
       "      outputDiv.innerHTML = `<div class=\"error\" style=\"color:red;\">${err}</div>`;\n",
       "      throw err;\n",
       "    }\n",
       "\n",
       "    function displayChart(vegaEmbed) {\n",
       "      vegaEmbed(outputDiv, spec, embedOpt)\n",
       "        .catch(err => showError(`Javascript Error: ${err.message}<br>This usually means there's a typo in your chart specification. See the javascript console for the full traceback.`));\n",
       "    }\n",
       "\n",
       "    if(typeof define === \"function\" && define.amd) {\n",
       "      requirejs.config({paths});\n",
       "      require([\"vega-embed\"], displayChart, err => showError(`Error loading script: ${err.message}`));\n",
       "    } else if (typeof vegaEmbed === \"function\") {\n",
       "      displayChart(vegaEmbed);\n",
       "    } else {\n",
       "      loadScript(\"vega\")\n",
       "        .then(() => loadScript(\"vega-lite\"))\n",
       "        .then(() => loadScript(\"vega-embed\"))\n",
       "        .catch(showError)\n",
       "        .then(() => displayChart(vegaEmbed));\n",
       "    }\n",
       "  })({\"config\": {\"view\": {\"continuousWidth\": 400, \"continuousHeight\": 300}, \"point\": {\"size\": 200}}, \"data\": {\"name\": \"data-db0fa88780f9b7d325df810b4a84129a\"}, \"mark\": {\"type\": \"line\", \"point\": true, \"radius\": 150}, \"encoding\": {\"color\": {\"type\": \"nominal\", \"field\": \"country\"}, \"opacity\": {\"condition\": {\"value\": 0.8, \"selection\": \"selector003\"}, \"value\": 0.05}, \"tooltip\": [{\"type\": \"temporal\", \"field\": \"date\"}, {\"type\": \"nominal\", \"field\": \"country\"}, {\"type\": \"quantitative\", \"field\": \"confirmed\"}, {\"type\": \"quantitative\", \"field\": \"rate\"}, {\"type\": \"quantitative\", \"field\": \"cum\"}], \"x\": {\"type\": \"quantitative\", \"axis\": {\"title\": \"Confirmed Cases\"}, \"field\": \"confirmed\", \"scale\": {\"type\": \"log\"}}, \"y\": {\"type\": \"quantitative\", \"axis\": {\"title\": \"Confirmed Cases\"}, \"field\": \"rate\", \"scale\": {\"domain\": [0.95, 1.65]}}}, \"height\": 400, \"selection\": {\"selector003\": {\"type\": \"multi\", \"fields\": [\"country\"], \"bind\": \"legend\", \"init\": [{\"country\": \"Brazil\"}, {\"country\": \"Chile\"}, {\"country\": \"Argentina\"}, {\"country\": \"Panama\"}, {\"country\": \"Colombia\"}, {\"country\": \"Mexico\"}, {\"country\": \"Ecuador\"}, {\"country\": \"Costa Rica\"}, {\"country\": \"Venezuela\"}, {\"country\": \"Dominican Republic\"}, {\"country\": \"Bolivia\"}, {\"country\": \"Paraguay\"}, {\"country\": \"Uruguay\"}, {\"country\": \"Honduras\"}, {\"country\": \"Cuba\"}, {\"country\": \"Puerto Rico\"}, {\"country\": \"Guatemala\"}]}}, \"width\": 650, \"$schema\": \"https://vega.github.io/schema/vega-lite/v4.0.2.json\", \"datasets\": {\"data-db0fa88780f9b7d325df810b4a84129a\": [{\"date\": \"2020-03-13T00:00:00\", \"country\": \"Argentina\", \"confirmed\": 31, \"rate\": 1.2268627450980394, \"cum\": 123}, {\"date\": \"2020-03-14T00:00:00\", \"country\": \"Argentina\", \"confirmed\": 34, \"rate\": 1.2462175838077167, \"cum\": 157}, {\"date\": \"2020-03-15T00:00:00\", \"country\": \"Argentina\", \"confirmed\": 45, \"rate\": 1.2275901328273244, \"cum\": 202}, {\"date\": \"2020-03-16T00:00:00\", \"country\": \"Argentina\", \"confirmed\": 56, \"rate\": 1.2529496099515076, \"cum\": 258}, {\"date\": \"2020-03-17T00:00:00\", \"country\": \"Argentina\", \"confirmed\": 68, \"rate\": 1.2958067528086503, \"cum\": 326}, {\"date\": \"2020-03-18T00:00:00\", \"country\": \"Argentina\", \"confirmed\": 79, \"rate\": 1.208159693985121, \"cum\": 405}, {\"date\": \"2020-03-19T00:00:00\", \"country\": \"Argentina\", \"confirmed\": 97, \"rate\": 1.2343744755286081, \"cum\": 502}, {\"date\": \"2020-03-10T00:00:00\", \"country\": \"Brazil\", \"confirmed\": 31, \"rate\": 1.3256923076923077, \"cum\": 121}, {\"date\": \"2020-03-11T00:00:00\", \"country\": \"Brazil\", \"confirmed\": 38, \"rate\": 1.250853598014888, \"cum\": 159}, {\"date\": \"2020-03-12T00:00:00\", \"country\": \"Brazil\", \"confirmed\": 52, \"rate\": 1.3245378085412038, \"cum\": 211}, {\"date\": \"2020-03-13T00:00:00\", \"country\": \"Brazil\", \"confirmed\": 151, \"rate\": 1.3368455008488962, \"cum\": 362}, {\"date\": \"2020-03-14T00:00:00\", \"country\": \"Brazil\", \"confirmed\": 151, \"rate\": 1.2868455008488962, \"cum\": 513}, {\"date\": \"2020-03-15T00:00:00\", \"country\": \"Brazil\", \"confirmed\": 162, \"rate\": 1.253415037272737, \"cum\": 675}, {\"date\": \"2020-03-16T00:00:00\", \"country\": \"Brazil\", \"confirmed\": 200, \"rate\": 1.25516732719707, \"cum\": 875}, {\"date\": \"2020-03-17T00:00:00\", \"country\": \"Brazil\", \"confirmed\": 321, \"rate\": 1.3014831166707546, \"cum\": 1196}, {\"date\": \"2020-03-18T00:00:00\", \"country\": \"Brazil\", \"confirmed\": 372, \"rate\": 1.2132588176053338, \"cum\": 1568}, {\"date\": \"2020-03-19T00:00:00\", \"country\": \"Brazil\", \"confirmed\": 621, \"rate\": 1.333258817605334, \"cum\": 2189}, {\"date\": \"2020-03-13T00:00:00\", \"country\": \"Chile\", \"confirmed\": 43, \"rate\": 1.36, \"cum\": 132}, {\"date\": \"2020-03-14T00:00:00\", \"country\": \"Chile\", \"confirmed\": 61, \"rate\": 1.4437209302325584, \"cum\": 193}, {\"date\": \"2020-03-15T00:00:00\", \"country\": \"Chile\", \"confirmed\": 74, \"rate\": 1.3663438810522304, \"cum\": 267}, {\"date\": \"2020-03-16T00:00:00\", \"country\": \"Chile\", \"confirmed\": 155, \"rate\": 1.3663438810522304, \"cum\": 422}, {\"date\": \"2020-03-17T00:00:00\", \"country\": \"Chile\", \"confirmed\": 201, \"rate\": 1.425698719761908, \"cum\": 623}, {\"date\": \"2020-03-18T00:00:00\", \"country\": \"Chile\", \"confirmed\": 238, \"rate\": 1.342514640159918, \"cum\": 861}, {\"date\": \"2020-03-19T00:00:00\", \"country\": \"Chile\", \"confirmed\": 238, \"rate\": 1.2587937099273598, \"cum\": 1099}, {\"date\": \"2020-03-15T00:00:00\", \"country\": \"Colombia\", \"confirmed\": 34, \"rate\": 1.4379797979797977, \"cum\": 94}, {\"date\": \"2020-03-16T00:00:00\", \"country\": \"Colombia\", \"confirmed\": 54, \"rate\": 1.4356268568033272, \"cum\": 148}, {\"date\": \"2020-03-17T00:00:00\", \"country\": \"Colombia\", \"confirmed\": 65, \"rate\": 1.476367597544068, \"cum\": 213}, {\"date\": \"2020-03-18T00:00:00\", \"country\": \"Colombia\", \"confirmed\": 93, \"rate\": 1.4736325548090252, \"cum\": 306}, {\"date\": \"2020-03-19T00:00:00\", \"country\": \"Colombia\", \"confirmed\": 102, \"rate\": 1.3729873935187027, \"cum\": 408}, {\"date\": \"2020-03-16T00:00:00\", \"country\": \"Costa Rica\", \"confirmed\": 35, \"rate\": 1.2221294325642151, \"cum\": 171}, {\"date\": \"2020-03-17T00:00:00\", \"country\": \"Costa Rica\", \"confirmed\": 41, \"rate\": 1.1364151468499295, \"cum\": 212}, {\"date\": \"2020-03-18T00:00:00\", \"country\": \"Costa Rica\", \"confirmed\": 50, \"rate\": 1.1712266767834105, \"cum\": 262}, {\"date\": \"2020-03-19T00:00:00\", \"country\": \"Costa Rica\", \"confirmed\": 69, \"rate\": 1.2211397202616714, \"cum\": 331}, {\"date\": \"2020-03-19T00:00:00\", \"country\": \"Dominican Republic\", \"confirmed\": 34, \"rate\": 1.2399999999999998, \"cum\": 148}, {\"date\": \"2020-03-16T00:00:00\", \"country\": \"Ecuador\", \"confirmed\": 37, \"rate\": 1.1842857142857142, \"cum\": 256}, {\"date\": \"2020-03-17T00:00:00\", \"country\": \"Ecuador\", \"confirmed\": 58, \"rate\": 1.2977992277992276, \"cum\": 314}, {\"date\": \"2020-03-18T00:00:00\", \"country\": \"Ecuador\", \"confirmed\": 111, \"rate\": 1.4177992277992277, \"cum\": 425}, {\"date\": \"2020-03-19T00:00:00\", \"country\": \"Ecuador\", \"confirmed\": 199, \"rate\": 1.4177992277992277, \"cum\": 624}, {\"date\": \"2020-03-15T00:00:00\", \"country\": \"Mexico\", \"confirmed\": 41, \"rate\": 1.3639560439560436, \"cum\": 162}, {\"date\": \"2020-03-16T00:00:00\", \"country\": \"Mexico\", \"confirmed\": 53, \"rate\": 1.3939212007504689, \"cum\": 215}, {\"date\": \"2020-03-17T00:00:00\", \"country\": \"Mexico\", \"confirmed\": 82, \"rate\": 1.40335516301462, \"cum\": 297}, {\"date\": \"2020-03-18T00:00:00\", \"country\": \"Mexico\", \"confirmed\": 93, \"rate\": 1.4301844313073029, \"cum\": 390}, {\"date\": \"2020-03-19T00:00:00\", \"country\": \"Mexico\", \"confirmed\": 118, \"rate\": 1.3639478721675182, \"cum\": 508}, {\"date\": \"2020-03-14T00:00:00\", \"country\": \"Panama\", \"confirmed\": 36, \"rate\": 1.5016666666666667, \"cum\": 83}, {\"date\": \"2020-03-15T00:00:00\", \"country\": \"Panama\", \"confirmed\": 43, \"rate\": 1.4205555555555556, \"cum\": 126}, {\"date\": \"2020-03-16T00:00:00\", \"country\": \"Panama\", \"confirmed\": 55, \"rate\": 1.3563695090439278, \"cum\": 181}, {\"date\": \"2020-03-17T00:00:00\", \"country\": \"Panama\", \"confirmed\": 69, \"rate\": 1.3322785999530187, \"cum\": 250}, {\"date\": \"2020-03-18T00:00:00\", \"country\": \"Panama\", \"confirmed\": 86, \"rate\": 1.2615539622718592, \"cum\": 336}, {\"date\": \"2020-03-19T00:00:00\", \"country\": \"Panama\", \"confirmed\": 109, \"rate\": 1.2483756676982158, \"cum\": 445}, {\"date\": \"2020-03-18T00:00:00\", \"country\": \"Uruguay\", \"confirmed\": 50, \"rate\": 1.48, \"cum\": 95}, {\"date\": \"2020-03-19T00:00:00\", \"country\": \"Uruguay\", \"confirmed\": 79, \"rate\": 1.4760000000000002, \"cum\": 174}, {\"date\": \"2020-03-17T00:00:00\", \"country\": \"Venezuela\", \"confirmed\": 33, \"rate\": 1.6, \"cum\": 62}, {\"date\": \"2020-03-18T00:00:00\", \"country\": \"Venezuela\", \"confirmed\": 36, \"rate\": 1.4981818181818183, \"cum\": 98}, {\"date\": \"2020-03-19T00:00:00\", \"country\": \"Venezuela\", \"confirmed\": 42, \"rate\": 1.4115151515151516, \"cum\": 140}]}}, {\"mode\": \"vega-lite\"});\n",
       "</script>"
      ],
      "text/plain": [
       "alt.Chart(...)"
      ]
     },
     "execution_count": 14,
     "metadata": {},
     "output_type": "execute_result"
    }
   ],
   "source": [
    "#hide_input\n",
    "latam = [\n",
    "    'Brazil', 'Chile', 'Argentina', 'Panama', 'Colombia','Mexico', \n",
    "    'Ecuador', 'Costa Rica', 'Venezuela', 'Dominican Republic', 'Bolivia',\n",
    "    'Paraguay', 'Uruguay','Honduras', 'Cuba', 'Puerto Rico','Guatemala', \n",
    "]\n",
    "\n",
    "plot_rate_cnt_trajectories(latam)"
   ]
  }
 ],
 "metadata": {
  "kernelspec": {
   "display_name": "Python 3",
   "language": "python",
   "name": "python3"
  },
  "language_info": {
   "codemirror_mode": {
    "name": "ipython",
    "version": 3
   },
   "file_extension": ".py",
   "mimetype": "text/x-python",
   "name": "python",
   "nbconvert_exporter": "python",
   "pygments_lexer": "ipython3",
   "version": "3.7.4"
  }
 },
 "nbformat": 4,
 "nbformat_minor": 2
}
